{
 "cells": [
  {
   "cell_type": "markdown",
   "metadata": {},
   "source": [
    "# 実践データサイエンス第6週「データ取得・形成」\n",
    "\n",
    "今週は、データを使いやすいように、構造を変える、値を変える、手法について学びます。\n",
    "\n",
    "今週の演習では、実務者が経験的知見から書いた「[前処理大全](https://www.amazon.co.jp/dp/4774196479/)」を参考図書とします。\n",
    "\n",
    "![前処理大全](https://images-na.ssl-images-amazon.com/images/I/61D0XQc0fwL._SX258_BO1,204,203,200_.jpg)"
   ]
  },
  {
   "cell_type": "markdown",
   "metadata": {},
   "source": [
    "This week we will learn how to change structures, change values, and make data easier to use.\n",
    "\n",
    "In this week's exercise, we will use \"[MAE-SYORI](https://en.wikipedia.org/wiki/Data_pre-processing)-[TAIZEN](https://www.ldoceonline.com/dictionary/complete)\" written by practitioners based on empirical findings as a reference book."
   ]
  },
  {
   "cell_type": "markdown",
   "metadata": {},
   "source": [
    "参考図書のサンプルコードは、\n",
    "\n",
    "https://github.com/ghmagazine/awesomebook\n",
    "\n",
    "で公開されています。ライセンスを確認した上で、使いましょう。"
   ]
  },
  {
   "cell_type": "markdown",
   "metadata": {},
   "source": [
    "The sample code for reference books is available on GitHub.\n",
    "\n",
    "Confirm the license and use it."
   ]
  },
  {
   "cell_type": "code",
   "execution_count": null,
   "metadata": {},
   "outputs": [],
   "source": [
    "!rm -rf awesomebook\n",
    "!git clone --depth 1 https://github.com/ghmagazine/awesomebook"
   ]
  },
  {
   "cell_type": "markdown",
   "metadata": {},
   "source": [
    "サンプルコードのR部分をNotebook化したものを用意しました。\n",
    "\n",
    "https://github.com/mnagaku/PracticalDataScience2019w6\n",
    "\n",
    "で公開しているので、git cloneします。"
   ]
  },
  {
   "cell_type": "markdown",
   "metadata": {},
   "source": [
    "We prepared the notebook version of the R part of the sample code.\n",
    "\n",
    "Since it is released on GitHub, \"git clone\"."
   ]
  },
  {
   "cell_type": "code",
   "execution_count": null,
   "metadata": {},
   "outputs": [],
   "source": [
    "!rm -rf PracticalDataScience2019w6\n",
    "!git clone --depth 1 https://github.com/mnagaku/PracticalDataScience2019w6"
   ]
  },
  {
   "cell_type": "markdown",
   "metadata": {},
   "source": [
    "Notebookを動かすためには、パス指定の問題で、awesomebookのディレクトリに置く必要があります。"
   ]
  },
  {
   "cell_type": "markdown",
   "metadata": {},
   "source": [
    "In order to run Notebook, it is necessary to put it in the directory of \"awesomebook\".\n",
    "\n",
    "Because due to the problem of path specification."
   ]
  },
  {
   "cell_type": "code",
   "execution_count": null,
   "metadata": {},
   "outputs": [],
   "source": [
    "!cp PracticalDataScience2019w6/*.ipynb awesomebook"
   ]
  },
  {
   "cell_type": "markdown",
   "metadata": {},
   "source": [
    "では、Notebookを試してみましょう。"
   ]
  },
  {
   "cell_type": "raw",
   "metadata": {},
   "source": [
    "Let's try Notebook."
   ]
  },
  {
   "cell_type": "markdown",
   "metadata": {},
   "source": [
    "[002_selection.ipynb](awesomebook/002_selection.ipynb)\n",
    "\n",
    "[003_aggregation.ipynb](awesomebook/003_aggregation.ipynb)\n",
    "\n",
    "[004_join.ipynb](awesomebook/004_join.ipynb)\n",
    "\n",
    "[005_split.ipynb](awesomebook/005_split.ipynb)\n",
    "\n",
    "[006_generate.ipynb](awesomebook/006_generate.ipynb)\n",
    "\n",
    "[007_spread.ipynb](awesomebook/007_spread.ipynb)\n",
    "\n",
    "[008_number.ipynb](awesomebook/008_number.ipynb)\n",
    "\n",
    "[009_category.ipynb](awesomebook/009_category.ipynb)\n",
    "\n",
    "[010_datetime.ipynb](awesomebook/010_datetime.ipynb)\n",
    "\n",
    "[011_character.ipynb](awesomebook/011_character.ipynb)\n",
    "\n",
    "[012_gis.ipynb](awesomebook/012_gis.ipynb)"
   ]
  },
  {
   "cell_type": "markdown",
   "metadata": {},
   "source": [
    "\n",
    "\n",
    "Topics\n",
    "Data Construction\n",
    "Extract\n",
    "Aggregate\n",
    "Join\n",
    "Manipulate data content\n",
    "Logarithmic\n",
    "Normalization\n",
    "\n",
    "\n",
    "データの抽出\n",
    "データの集約\n",
    "データの結合\n",
    "\n",
    "データの対数化\n",
    "データの正規化\n",
    "\n",
    "\n"
   ]
  }
 ],
 "metadata": {
  "kernelspec": {
   "display_name": "Python 3",
   "language": "python",
   "name": "python3"
  },
  "language_info": {
   "codemirror_mode": {
    "name": "ipython",
    "version": 3
   },
   "file_extension": ".py",
   "mimetype": "text/x-python",
   "name": "python",
   "nbconvert_exporter": "python",
   "pygments_lexer": "ipython3",
   "version": "3.7.3"
  }
 },
 "nbformat": 4,
 "nbformat_minor": 2
}
