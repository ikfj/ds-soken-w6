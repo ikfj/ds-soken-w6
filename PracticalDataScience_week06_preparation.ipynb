{
 "cells": [
  {
   "cell_type": "markdown",
   "metadata": {},
   "source": [
    "# 実践データサイエンス第6週「データ取得・形成」\n",
    "\n",
    "今週は、データを使いやすいように、構造を変える、値を変える、手法について学びます。\n",
    "\n",
    "今週の演習では、実務者が経験的知見から書いた「[前処理大全](https://www.amazon.co.jp/dp/4774196479/)」を参考図書とします。\n",
    "\n",
    "![前処理大全](https://images-na.ssl-images-amazon.com/images/I/61D0XQc0fwL._SX258_BO1,204,203,200_.jpg)"
   ]
  },
  {
   "cell_type": "markdown",
   "metadata": {},
   "source": [
    "This week we will learn how to change structures, change values, and make data easier to use.\n",
    "\n",
    "In this week's exercise, we will use \"[MAE-SYORI](https://en.wikipedia.org/wiki/Data_pre-processing)-[TAIZEN](https://www.ldoceonline.com/dictionary/complete)\" written by practitioners based on empirical findings as a reference book."
   ]
  },
  {
   "cell_type": "markdown",
   "metadata": {},
   "source": [
    "参考図書のサンプルコードは、\n",
    "\n",
    "https://github.com/ghmagazine/awesomebook\n",
    "\n",
    "で公開されています。ライセンスを確認した上で、使いましょう。"
   ]
  },
  {
   "cell_type": "markdown",
   "metadata": {},
   "source": [
    "The sample code for reference books is available on GitHub.\n",
    "\n",
    "Confirm the license and use it."
   ]
  },
  {
   "cell_type": "code",
   "execution_count": 1,
   "metadata": {},
   "outputs": [
    {
     "name": "stdout",
     "output_type": "stream",
     "text": [
      "Cloning into 'awesomebook'...\n",
      "remote: Enumerating objects: 264, done.\u001b[K\n",
      "remote: Counting objects: 100% (264/264), done.\u001b[K\n",
      "remote: Compressing objects: 100% (237/237), done.\u001b[K\n",
      "remote: Total 264 (delta 24), reused 255 (delta 24), pack-reused 0\u001b[K\n",
      "Receiving objects: 100% (264/264), 214.27 KiB | 509.00 KiB/s, done.\n",
      "Resolving deltas: 100% (24/24), done.\n"
     ]
    }
   ],
   "source": [
    "import datetime\n",
    "\n",
    "d = datetime.datetime.today().strftime(\"%Y%m%d%H%M%S\")\n",
    "\n",
    "!mv awesomebook awesomebook$d\n",
    "!git clone --depth 1 https://github.com/ghmagazine/awesomebook"
   ]
  },
  {
   "cell_type": "markdown",
   "metadata": {},
   "source": [
    "サンプルコードのR部分をNotebook化したものを用意しました。\n",
    "\n",
    "https://github.com/mnagaku/PracticalDataScience2019w6\n",
    "\n",
    "で公開しているので、git cloneします。"
   ]
  },
  {
   "cell_type": "markdown",
   "metadata": {},
   "source": [
    "We prepared the notebook version of the R part of the sample code.\n",
    "\n",
    "Since it is released on GitHub, \"git clone\"."
   ]
  },
  {
   "cell_type": "code",
   "execution_count": 2,
   "metadata": {},
   "outputs": [
    {
     "name": "stdout",
     "output_type": "stream",
     "text": [
      "Cloning into 'PracticalDataScience2019w6'...\n",
      "remote: Enumerating objects: 15, done.\u001b[K\n",
      "remote: Counting objects: 100% (15/15), done.\u001b[K\n",
      "remote: Compressing objects: 100% (10/10), done.\u001b[K\n",
      "remote: Total 15 (delta 4), reused 15 (delta 4), pack-reused 0\u001b[K\n",
      "Unpacking objects: 100% (15/15), done.\n"
     ]
    }
   ],
   "source": [
    "!rm -rf PracticalDataScience2019w6\n",
    "!git clone --depth 1 https://github.com/mnagaku/PracticalDataScience2019w6"
   ]
  },
  {
   "cell_type": "markdown",
   "metadata": {},
   "source": [
    "Notebookを動かすためには、パス指定の問題で、awesomebookのディレクトリに置く必要があります。"
   ]
  },
  {
   "cell_type": "markdown",
   "metadata": {},
   "source": [
    "In order to run Notebook, it is necessary to put it in the directory of \"awesomebook\".\n",
    "\n",
    "Because due to the problem of path specification."
   ]
  },
  {
   "cell_type": "code",
   "execution_count": 3,
   "metadata": {},
   "outputs": [],
   "source": [
    "!cp PracticalDataScience2019w6/*.ipynb awesomebook"
   ]
  },
  {
   "cell_type": "markdown",
   "metadata": {},
   "source": [
    "では、Notebookを試してみましょう。"
   ]
  },
  {
   "cell_type": "markdown",
   "metadata": {},
   "source": [
    "Let's try Notebook."
   ]
  },
  {
   "cell_type": "markdown",
   "metadata": {},
   "source": [
    "[抽出　Extraction(Selection)](awesomebook/002_selection.ipynb)\n",
    "\n",
    "[集約　Aggregation](awesomebook/003_aggregation.ipynb)\n",
    "\n",
    "[結合　Join](awesomebook/004_join.ipynb)\n",
    "\n",
    "[数値型に対する操作：対数化・正規化ほか　Operations on numeric types:Logarithmic/Normalization/etc](awesomebook/008_number.ipynb)\n",
    "\n",
    "[カテゴリ型に対する操作　Operations on category types](awesomebook/009_category.ipynb)\n",
    "\n",
    "<!--\n",
    "\n",
    "[データの分割　Split](awesomebook/005_split.ipynb)\n",
    "\n",
    "[データの生成　Generate](awesomebook/006_generate.ipynb)\n",
    "\n",
    "[レコード形式から表形式に展開する　Record format to table format](awesomebook/007_spread.ipynb)\n",
    "\n",
    "-->"
   ]
  },
  {
   "cell_type": "code",
   "execution_count": null,
   "metadata": {},
   "outputs": [],
   "source": []
  }
 ],
 "metadata": {
  "kernelspec": {
   "display_name": "Python 3",
   "language": "python",
   "name": "python3"
  },
  "language_info": {
   "codemirror_mode": {
    "name": "ipython",
    "version": 3
   },
   "file_extension": ".py",
   "mimetype": "text/x-python",
   "name": "python",
   "nbconvert_exporter": "python",
   "pygments_lexer": "ipython3",
   "version": "3.7.3"
  }
 },
 "nbformat": 4,
 "nbformat_minor": 2
}
