{
 "cells": [
  {
   "cell_type": "markdown",
   "metadata": {},
   "source": [
    "# 011_character01"
   ]
  },
  {
   "cell_type": "code",
   "execution_count": 2,
   "metadata": {},
   "outputs": [
    {
     "name": "stderr",
     "output_type": "stream",
     "text": [
      "Warning message:\n",
      "“package ‘RMeCab’ is not available (for R version 3.5.1)”"
     ]
    }
   ],
   "source": [
    "install.packages(\"RMeCab\")"
   ]
  },
  {
   "cell_type": "code",
   "execution_count": 1,
   "metadata": {},
   "outputs": [
    {
     "ename": "ERROR",
     "evalue": "Error in library(RMeCab): there is no package called ‘RMeCab’\n",
     "output_type": "error",
     "traceback": [
      "Error in library(RMeCab): there is no package called ‘RMeCab’\nTraceback:\n",
      "1. library(RMeCab)",
      "2. stop(txt, domain = NA)"
     ]
    }
   ],
   "source": [
    "source('preprocess/load_data/data_loader.R')\n",
    "load_meros_txt()\n",
    "load_txt_df()\n",
    "\n",
    "# 下記から本書掲載\n",
    "# MeCabをRで利用するためのライブラリ読み込み\n",
    "library(RMeCab)\n",
    "\n",
    "# merosには、メロスの文章データが格納\n",
    "# MeCabを用いて、形態素解析を実行\n",
    "words <- RMeCabC(meros)\n",
    "\n",
    "# 形態素解析の結果のリストをdata.frameに変換\n",
    "words <- data.frame(part=names(unlist(words)), word=unlist(words))\n",
    "\n",
    "# 名詞と動詞の単語を抽出\n",
    "word_list <- words %>% filter(part == '名詞' | part == '動詞') %>% select(word)\n"
   ]
  },
  {
   "cell_type": "markdown",
   "metadata": {},
   "source": [
    "# 011_character02"
   ]
  },
  {
   "cell_type": "code",
   "execution_count": 2,
   "metadata": {},
   "outputs": [
    {
     "name": "stderr",
     "output_type": "stream",
     "text": [
      "\n",
      "Attaching package: ‘dplyr’\n",
      "\n",
      "The following objects are masked from ‘package:stats’:\n",
      "\n",
      "    filter, lag\n",
      "\n",
      "The following objects are masked from ‘package:base’:\n",
      "\n",
      "    intersect, setdiff, setequal, union\n",
      "\n"
     ]
    },
    {
     "ename": "ERROR",
     "evalue": "Error in library(RMeCab): there is no package called ‘RMeCab’\n",
     "output_type": "error",
     "traceback": [
      "Error in library(RMeCab): there is no package called ‘RMeCab’\nTraceback:\n",
      "1. library(RMeCab)",
      "2. stop(txt, domain = NA)"
     ]
    }
   ],
   "source": [
    "library(dplyr)\n",
    "source('preprocess/load_data/data_loader.R')\n",
    "load_meros_txt()\n",
    "load_txt_df()\n",
    "\n",
    "# 下記から本書掲載\n",
    "library(RMeCab)\n",
    "\n",
    "# poc引数で対象の品詞を指定\n",
    "# typeは文字単位または単語単位のどちらかを指定(単語単位の処理は、1)\n",
    "word_matrix <- docDF('data/txt', pos=c('動詞', '名詞'), type=1)"
   ]
  },
  {
   "cell_type": "markdown",
   "metadata": {},
   "source": [
    "# 011_character03"
   ]
  },
  {
   "cell_type": "code",
   "execution_count": 3,
   "metadata": {},
   "outputs": [
    {
     "ename": "ERROR",
     "evalue": "Error in library(RMeCab): there is no package called ‘RMeCab’\n",
     "output_type": "error",
     "traceback": [
      "Error in library(RMeCab): there is no package called ‘RMeCab’\nTraceback:\n",
      "1. library(RMeCab)",
      "2. stop(txt, domain = NA)"
     ]
    }
   ],
   "source": [
    "library(dplyr)\n",
    "source('preprocess/load_data/data_loader.R')\n",
    "load_meros_txt()\n",
    "\n",
    "# 下記から本書掲載\n",
    "library(RMeCab)\n",
    "\n",
    "word_matrix <-\n",
    "  docDF('data/txt', pos=c('動詞', '名詞'), type=1, weight='tf*idf*norm')\n"
   ]
  },
  {
   "cell_type": "code",
   "execution_count": null,
   "metadata": {},
   "outputs": [],
   "source": []
  }
 ],
 "metadata": {
  "kernelspec": {
   "display_name": "R",
   "language": "R",
   "name": "ir"
  },
  "language_info": {
   "codemirror_mode": "r",
   "file_extension": ".r",
   "mimetype": "text/x-r-source",
   "name": "R",
   "pygments_lexer": "r",
   "version": "3.5.1"
  }
 },
 "nbformat": 4,
 "nbformat_minor": 2
}
