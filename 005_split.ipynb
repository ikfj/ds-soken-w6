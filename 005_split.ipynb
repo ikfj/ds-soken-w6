{
 "cells": [
  {
   "cell_type": "markdown",
   "metadata": {},
   "source": [
    "# 005_split01"
   ]
  },
  {
   "cell_type": "code",
   "execution_count": 2,
   "metadata": {},
   "outputs": [
    {
     "name": "stderr",
     "output_type": "stream",
     "text": [
      "Updating HTML index of packages in '.Library'\n",
      "Making 'packages.html' ... done\n",
      "also installing the dependencies ‘DEoptimR’, ‘robustbase’\n",
      "\n",
      "Updating HTML index of packages in '.Library'\n",
      "Making 'packages.html' ... done\n"
     ]
    }
   ],
   "source": [
    "install.packages(\"caTools\")\n",
    "install.packages(\"cvTools\")"
   ]
  },
  {
   "cell_type": "code",
   "execution_count": 3,
   "metadata": {},
   "outputs": [
    {
     "name": "stderr",
     "output_type": "stream",
     "text": [
      "\n",
      "Attaching package: ‘dplyr’\n",
      "\n",
      "The following objects are masked from ‘package:stats’:\n",
      "\n",
      "    filter, lag\n",
      "\n",
      "The following objects are masked from ‘package:base’:\n",
      "\n",
      "    intersect, setdiff, setequal, union\n",
      "\n",
      "Loading required package: lattice\n",
      "Loading required package: robustbase\n"
     ]
    }
   ],
   "source": [
    "library(dplyr)\n",
    "source('preprocess/load_data/data_loader.R')\n",
    "load_production()\n",
    "\n",
    "# 下記から本書掲載\n",
    "# sample.split用のパッケージ\n",
    "library(caTools)\n",
    "\n",
    "# cvFolds用のパッケージ\n",
    "library(cvTools)\n",
    "\n",
    "# 乱数のシード設定。71はある界隈では幸運を呼ぶと言われている\n",
    "set.seed(71)\n",
    "\n",
    "# ホールドアウト検証用のデータ分割\n",
    "# production_tb$fault_flg、データ行数と同じ長さのベクトルであればなんでも良い\n",
    "# test_tfは、学習データはFALSE、検証データがTRUEのデータ行数と同じ長さのベクトル\n",
    "# SplitRatioは検証データの割合\n",
    "test_tf <- sample.split(production_tb$fault_flg, SplitRatio=0.2)\n",
    "\n",
    "# production_tbからホールドアウト検証における学習データを抽出\n",
    "train <- production_tb %>% filter(!test_tf)\n",
    "\n",
    "# production_tbからホールドアウト検証における検証データを抽出\n",
    "private_test  <- production_tb %>% filter(test_tf)\n",
    "\n",
    "# 交差検証用のデータ分割\n",
    "cv_no <- cvFolds(nrow(train), K=4)\n",
    "\n",
    "# cv_no$Kで設定した交差数分繰り返し処理（並列処理が可能）\n",
    "for(test_k in 1:cv_no$K){\n",
    "\n",
    "  # production_tbから交差検証における学習データを抽出\n",
    "  train_cv <- train %>% slice(cv_no$subsets[cv_no$which!=test_k])\n",
    "\n",
    "  # production_tbから交差検証における検証データを抽出\n",
    "  test_cv <- train %>% slice(cv_no$subsets[cv_no$which==test_k])\n",
    "\n",
    "  # train_cvを学習データ、test_cvを検証データとして機械学習モデルの構築、検証\n",
    "}\n",
    "\n",
    "# 交差検証の結果をまとめる\n",
    "\n",
    "# trainを学習データ、private_testを検証データとして機械学習モデルの構築、検証\n"
   ]
  },
  {
   "cell_type": "markdown",
   "metadata": {},
   "source": [
    "# 005_split02"
   ]
  },
  {
   "cell_type": "code",
   "execution_count": 4,
   "metadata": {},
   "outputs": [
    {
     "name": "stderr",
     "output_type": "stream",
     "text": [
      "Loading required package: ggplot2\n"
     ]
    }
   ],
   "source": [
    "library(dplyr)\n",
    "source('preprocess/load_data/data_loader.R')\n",
    "load_monthly_index()\n",
    "\n",
    "# 下記から本書掲載\n",
    "# createTimeSlices用のライブラリ\n",
    "library(caret)\n",
    "\n",
    "# 乱数のシード設定\n",
    "set.seed(71)\n",
    "\n",
    "# 年月に基づいてデータを並び替え\n",
    "target_data <- monthly_index_tb %>% arrange(year_month) %>% as.data.frame()\n",
    "\n",
    "# createTimeSlices関数によって、学習データと検証データに分割したデータ行番号を取得\n",
    "# initialWindowに学習データ数を設定\n",
    "# horizonに検証データ数を設定\n",
    "# skipにスライドするデータ数-1の値を設定\n",
    "# fixedWindowをTに指定すると、学習データ数を増やさずにスライド\n",
    "timeSlice <-\n",
    "  createTimeSlices(1:nrow(target_data), initialWindow=24, horizon=12,\n",
    "                   skip=(12 - 1), fixedWindow=TRUE)\n",
    "\n",
    "# データを分割した数だけfor文で繰り返す\n",
    "for(slice_no in 1:length(timeSlice$train)){\n",
    "\n",
    "  # 行番号を指定して、元データから学習データを取得\n",
    "  train <- target_data[timeSlice$train[[slice_no]], ]\n",
    "\n",
    "  # 行番号を指定して、元データから検証データを取得\n",
    "  test <- target_data[timeSlice$test[[slice_no]], ]\n",
    "\n",
    "  # trainを学習データ、testを検証データとして機械学習モデルの構築、検証\n",
    "}\n",
    "\n",
    "# 交差検証の結果をまとめる\n"
   ]
  },
  {
   "cell_type": "code",
   "execution_count": null,
   "metadata": {},
   "outputs": [],
   "source": []
  }
 ],
 "metadata": {
  "kernelspec": {
   "display_name": "R",
   "language": "R",
   "name": "ir"
  }
 },
 "nbformat": 4,
 "nbformat_minor": 2
}
