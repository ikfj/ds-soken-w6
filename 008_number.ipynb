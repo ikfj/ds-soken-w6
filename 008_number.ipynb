{
 "cells": [
  {
   "cell_type": "markdown",
   "metadata": {},
   "source": [
    "# 数値型に対する操作：対数化・正規化ほか\n",
    "# Operations on numeric types:Logarithmic/Normalization/etc\n",
    "\n",
    "## Load Data"
   ]
  },
  {
   "cell_type": "code",
   "execution_count": null,
   "metadata": {},
   "outputs": [],
   "source": [
    "library(dplyr)\n",
    "source('preprocess/load_data/data_loader.R')\n",
    "load_hotel_reserve()"
   ]
  },
  {
   "cell_type": "markdown",
   "metadata": {},
   "source": [
    "## Integer and double in numeric"
   ]
  },
  {
   "cell_type": "code",
   "execution_count": null,
   "metadata": {},
   "outputs": [],
   "source": [
    "n = 40000 / 3\n",
    "\n",
    "n\n",
    "mode(n)\n",
    "typeof(n)\n",
    "\n",
    "i = as.integer(n)\n",
    "\n",
    "i\n",
    "mode(i)\n",
    "typeof(i)\n",
    "\n",
    "n2 = as.double(i)\n",
    "\n",
    "n2\n",
    "mode(n2)\n",
    "typeof(n2)\n",
    "\n",
    "\n",
    "c = \"100\"\n",
    "\n",
    "c\n",
    "mode(c)\n",
    "typeof(c)\n",
    "\n",
    "i2 = as.numeric(c)\n",
    "\n",
    "i2\n",
    "mode(i2)\n",
    "typeof(i2)"
   ]
  },
  {
   "cell_type": "markdown",
   "metadata": {},
   "source": [
    "##  Logarithmic"
   ]
  },
  {
   "cell_type": "code",
   "execution_count": null,
   "metadata": {},
   "outputs": [],
   "source": [
    "result <- reserve_tb %>%\n",
    "  mutate(total_price_log = log((total_price / 1000 + 1), 10))\n",
    "\n",
    "result[1:10,]"
   ]
  },
  {
   "cell_type": "markdown",
   "metadata": {},
   "source": [
    "## Ordinal\n",
    "\n",
    "[Level of measurement](https://en.wikipedia.org/wiki/Level_of_measurement)\n",
    "\n",
    "Nominal and ordinal in R, using \"factor\" type.\n",
    "\n",
    "Interval and Ratio in R, using \"numeric\" type."
   ]
  },
  {
   "cell_type": "code",
   "execution_count": null,
   "metadata": {},
   "outputs": [],
   "source": [
    "result <- customer_tb %>%\n",
    "  mutate(age_rank = as.factor(floor(age / 10) * 10))\n",
    "\n",
    "result[1:10,]"
   ]
  },
  {
   "cell_type": "markdown",
   "metadata": {},
   "source": [
    "## Normalization"
   ]
  },
  {
   "cell_type": "code",
   "execution_count": null,
   "metadata": {},
   "outputs": [],
   "source": [
    "result <- reserve_tb %>%\n",
    "  mutate(\n",
    "    people_num_normalized = scale(people_num, center = TRUE, scale = TRUE),\n",
    "    total_price_normalized = scale(total_price, center = TRUE, scale = TRUE)\n",
    "  )\n",
    "\n",
    "result[1:10,]"
   ]
  },
  {
   "cell_type": "markdown",
   "metadata": {},
   "source": [
    "## Outlier (three-sigma rule)\n",
    "\n",
    "Using [three-sigma rule](https://en.wikipedia.org/wiki/68%E2%80%9395%E2%80%9399.7_rule)."
   ]
  },
  {
   "cell_type": "code",
   "execution_count": null,
   "metadata": {},
   "outputs": [],
   "source": [
    "result <- reserve_tb %>%\n",
    "  filter(abs(total_price - mean(total_price)) / sd(total_price) <= 3)\n",
    "\n",
    "result[1:10,]"
   ]
  },
  {
   "cell_type": "code",
   "execution_count": null,
   "metadata": {},
   "outputs": [],
   "source": []
  }
 ],
 "metadata": {
  "kernelspec": {
   "display_name": "R",
   "language": "R",
   "name": "ir"
  },
  "language_info": {
   "codemirror_mode": "r",
   "file_extension": ".r",
   "mimetype": "text/x-r-source",
   "name": "R",
   "pygments_lexer": "r",
   "version": "3.5.1"
  }
 },
 "nbformat": 4,
 "nbformat_minor": 2
}
