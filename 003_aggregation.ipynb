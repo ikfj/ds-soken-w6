{
 "cells": [
  {
   "cell_type": "markdown",
   "metadata": {},
   "source": [
    "# 集約　Aggregation\n",
    "\n",
    "## Load Data"
   ]
  },
  {
   "cell_type": "code",
   "execution_count": null,
   "metadata": {},
   "outputs": [],
   "source": [
    "library(dplyr)\n",
    "source('preprocess/load_data/data_loader.R')\n",
    "load_hotel_reserve()"
   ]
  },
  {
   "cell_type": "markdown",
   "metadata": {},
   "source": [
    "## Aggregation\n",
    "\n",
    "Using [group_by()](https://www.rdocumentation.org/packages/dplyr/versions/0.7.8/topics/group_by), [summarise()](https://www.rdocumentation.org/packages/dplyr/versions/0.7.8/topics/summarise) and [n_distinct()](https://www.rdocumentation.org/packages/dplyr/versions/0.7.8/topics/n_distinct)."
   ]
  },
  {
   "cell_type": "code",
   "execution_count": null,
   "metadata": {},
   "outputs": [],
   "source": [
    "result <- reserve_tb %>%\n",
    "\n",
    "  group_by(hotel_id) %>%\n",
    "\n",
    "  summarise(rsv_cnt = n(),\n",
    "            cus_cnt = n_distinct(customer_id))\n",
    "\n",
    "result[1:10,]"
   ]
  },
  {
   "cell_type": "markdown",
   "metadata": {},
   "source": [
    "## Sum\n",
    "\n",
    "Using [sum()](https://www.rdocumentation.org/packages/base/versions/3.6.0/topics/sum)."
   ]
  },
  {
   "cell_type": "code",
   "execution_count": null,
   "metadata": {},
   "outputs": [],
   "source": [
    "result <- reserve_tb %>%\n",
    "\n",
    "  group_by(hotel_id, people_num) %>%\n",
    "\n",
    "  summarise(price_sum = sum(total_price))\n",
    "\n",
    "result[1:10,]"
   ]
  },
  {
   "cell_type": "markdown",
   "metadata": {},
   "source": [
    "## Average (mean and more)"
   ]
  },
  {
   "cell_type": "code",
   "execution_count": null,
   "metadata": {},
   "outputs": [],
   "source": [
    "result <- reserve_tb %>%\n",
    "\n",
    "  group_by(hotel_id) %>%\n",
    "\n",
    "  summarise(price_max = max(total_price),\n",
    "            price_min = min(total_price),\n",
    "            price_avg = mean(total_price),\n",
    "            price_median = median(total_price),\n",
    "            price_20per = quantile(total_price, 0.2))\n",
    "\n",
    "result[1:10,]"
   ]
  },
  {
   "cell_type": "markdown",
   "metadata": {},
   "source": [
    "## Standard deviation\n",
    "\n",
    "Using [coalesce()](https://www.rdocumentation.org/packages/dplyr/versions/0.7.8/topics/coalesce). If data count is 1, var() and sd() is NA. transrate NA to zero. "
   ]
  },
  {
   "cell_type": "code",
   "execution_count": null,
   "metadata": {},
   "outputs": [],
   "source": [
    "result <- reserve_tb %>%\n",
    "\n",
    "  group_by(hotel_id) %>%\n",
    "\n",
    "  summarise(price_var = coalesce(var(total_price), 0),\n",
    "            price_std = coalesce(sd(total_price), 0))\n",
    "\n",
    "result[1:10,]"
   ]
  },
  {
   "cell_type": "markdown",
   "metadata": {},
   "source": [
    "## Mode\n",
    "\n",
    "Clasify total_price / 1000."
   ]
  },
  {
   "cell_type": "code",
   "execution_count": null,
   "metadata": {},
   "outputs": [],
   "source": [
    "names(which.max(table(round(reserve_tb$total_price, -3))))"
   ]
  },
  {
   "cell_type": "markdown",
   "metadata": {},
   "source": [
    "## Calculate rank (1)"
   ]
  },
  {
   "cell_type": "code",
   "execution_count": null,
   "metadata": {},
   "outputs": [],
   "source": [
    "reserve_tb$reserve_datetime <-\n",
    "  as.POSIXct(reserve_tb$reserve_datetime, format = '%Y-%m-%d %H:%M:%S')\n",
    "\n",
    "result <- reserve_tb %>%\n",
    "\n",
    "  group_by(customer_id) %>%\n",
    "\n",
    "  mutate(log_no = row_number(reserve_datetime))\n",
    "\n",
    "result[1:10,]"
   ]
  },
  {
   "cell_type": "markdown",
   "metadata": {},
   "source": [
    "## Calculate rank (2)"
   ]
  },
  {
   "cell_type": "code",
   "execution_count": null,
   "metadata": {},
   "outputs": [],
   "source": [
    "result <- reserve_tb %>%\n",
    "\n",
    "  group_by(hotel_id) %>%\n",
    "\n",
    "  summarise(rsv_cnt = n()) %>%\n",
    "\n",
    "  transmute(hotel_id, rsv_cnt, rsv_cnt_rank = min_rank(desc(rsv_cnt)))\n",
    "\n",
    "result[order(result$rsv_cnt_rank),][1:10,]"
   ]
  },
  {
   "cell_type": "code",
   "execution_count": null,
   "metadata": {},
   "outputs": [],
   "source": []
  }
 ],
 "metadata": {
  "kernelspec": {
   "display_name": "R",
   "language": "R",
   "name": "ir"
  },
  "language_info": {
   "codemirror_mode": "r",
   "file_extension": ".r",
   "mimetype": "text/x-r-source",
   "name": "R",
   "pygments_lexer": "r",
   "version": "3.5.1"
  }
 },
 "nbformat": 4,
 "nbformat_minor": 2
}
