{
 "cells": [
  {
   "cell_type": "markdown",
   "metadata": {},
   "source": [
    "# 結合　Join"
   ]
  },
  {
   "cell_type": "code",
   "execution_count": null,
   "metadata": {},
   "outputs": [],
   "source": [
    "library(dplyr)\n",
    "source('preprocess/load_data/data_loader.R')\n",
    "load_hotel_reserve()"
   ]
  },
  {
   "cell_type": "markdown",
   "metadata": {},
   "source": [
    "\n",
    "データの確認\n",
    "\n",
    "[hotel.csv](/user/{username}/edit/awesomebook/data/hotel.csv)\n"
   ]
  },
  {
   "cell_type": "markdown",
   "metadata": {},
   "source": [
    "\n",
    "## 内部結合　Inner join\n"
   ]
  },
  {
   "cell_type": "code",
   "execution_count": null,
   "metadata": {},
   "outputs": [],
   "source": [
    "inner_join(reserve_tb %>% filter(people_num == 1),\n",
    "           hotel_tb %>% filter(is_business),\n",
    "           by='hotel_id')"
   ]
  },
  {
   "cell_type": "markdown",
   "metadata": {},
   "source": [
    "\n",
    "## リコメンド　Recommend\n"
   ]
  },
  {
   "cell_type": "code",
   "execution_count": null,
   "metadata": {},
   "outputs": [],
   "source": [
    "# small_area_nameごとにホテル数をカウント、結合キーを判定するためのテーブル\n",
    "# A table to count the number of hotels per small_area_name and to determine the join key.\n",
    "small_area_mst <-\n",
    "  hotel_tb %>%\n",
    "    group_by(big_area_name, small_area_name) %>%\n",
    "\n",
    "    # -1は、自ホテルを引いている\n",
    "    # -1 is subtracting its own hotel.\n",
    "    summarise(hotel_cnt=n() - 1) %>%\n",
    "\n",
    "    # 集約処理完了後に、グループ化を解除\n",
    "    # Remove grouping after consolidation is complete.\n",
    "    ungroup() %>%\n",
    "\n",
    "    # 20件以上であればjoin_area_idをsmall_area_nameとして設定\n",
    "    # 20件未満であればjoin_area_idをbig_area_nameとして設定\n",
    "    # If it is 20 or more, join_area_id is set as small_area_name.\n",
    "    # If it is less than 20, set join_area_id as big_area_name.\n",
    "    mutate(join_area_id=\n",
    "             if_else(hotel_cnt >= 20, small_area_name, big_area_name)) %>%\n",
    "    select(small_area_name, join_area_id)\n",
    "\n",
    "# レコメンド元になるホテルにsmall_area_mstを結合することで、join_area_idを設定\n",
    "# Set join_area_id by joining small_area_mst to the hotel that is the recommendation source.\n",
    "base_hotel_mst <-\n",
    "  inner_join(hotel_tb, small_area_mst, by='small_area_name') %>%\n",
    "    select(hotel_id, join_area_id)\n",
    "\n",
    "# 必要に応じて、メモリを解放(必須ではないがメモリ量に余裕のないときに利用)\n",
    "# Memory release\n",
    "rm(small_area_mst)\n",
    "\n",
    "# recommend_hotel_mstはレコメンド候補のためのテーブル\n",
    "# recommend_hotel_mst is a table for recommendation candidates.\n",
    "recommend_hotel_mst <-\n",
    "  bind_rows(\n",
    "    # join_area_idをbig_area_nameとしたレコメンド候補マスタ\n",
    "    # It is a recommendation candidate master whose join_area_id is big_area_name.\n",
    "    hotel_tb %>%\n",
    "      rename(rec_hotel_id=hotel_id, join_area_id=big_area_name) %>%\n",
    "      select(join_area_id, rec_hotel_id),\n",
    "\n",
    "    # join_area_idをsmall_area_nameとしたレコメンド候補マスタ\n",
    "    # It is a recommendation candidate master whose join_area_id is small_area_name.\n",
    "    hotel_tb %>%\n",
    "      rename(rec_hotel_id=hotel_id, join_area_id=small_area_name) %>%\n",
    "      select(join_area_id, rec_hotel_id)\n",
    "  )\n",
    "\n",
    "# base_hotel_mstとrecommend_hotel_mstを結合し、レコメンド候補の情報を付与\n",
    "inner_join(base_hotel_mst, recommend_hotel_mst, by='join_area_id') %>%\n",
    "\n",
    "  # レコメンド候補から自分を除く\n",
    "  filter(hotel_id != rec_hotel_id)\n"
   ]
  },
  {
   "cell_type": "markdown",
   "metadata": {},
   "source": [
    "# 004_join03_a"
   ]
  },
  {
   "cell_type": "code",
   "execution_count": null,
   "metadata": {},
   "outputs": [],
   "source": [
    "library(dplyr)\n",
    "source('preprocess/load_data/data_loader.R')\n",
    "load_hotel_reserve()\n",
    "\n",
    "# 下記から本書掲載\n",
    "reserve_tb %>%\n",
    "\n",
    "  # group_byによって、customer_idごとにデータをグループ化\n",
    "  group_by(customer_id) %>%\n",
    "\n",
    "  # LAG関数を利用し、2件前のtotal_priceをbefore_priceとして取得\n",
    "  # LAG関数によって参照する際のグループ内のデータをreserve_datetimeの古い順に指定\n",
    "  mutate(before_price=lag(total_price, n=2,\n",
    "                          order_by=reserve_datetime, default=NA))\n"
   ]
  },
  {
   "cell_type": "markdown",
   "metadata": {},
   "source": [
    "# 004_join03_b"
   ]
  },
  {
   "cell_type": "code",
   "execution_count": null,
   "metadata": {},
   "outputs": [],
   "source": [
    "library(dplyr)\n",
    "source('preprocess/load_data/data_loader.R')\n",
    "load_hotel_reserve()\n",
    "\n",
    "# 下記から本書掲載\n",
    "# roll_sum関数のためのライブラリ\n",
    "library(RcppRoll)\n",
    "\n",
    "reserve_tb %>%\n",
    "\n",
    "  # データ行をcustomer_idごとにグループ化\n",
    "  group_by(customer_id) %>%\n",
    "\n",
    "  # customer_idごとにreserve_datetimeでデータを並び替え\n",
    "  arrange(reserve_datetime) %>%\n",
    "\n",
    "  # RcppRollのroll_sumによって、移動合計値を計算\n",
    "  mutate(price_sum=roll_sum(total_price, n=3, align='right', fill=NA))\n"
   ]
  },
  {
   "cell_type": "markdown",
   "metadata": {},
   "source": [
    "# 004_join03_c"
   ]
  },
  {
   "cell_type": "code",
   "execution_count": null,
   "metadata": {},
   "outputs": [],
   "source": [
    "library(dplyr)\n",
    "source('preprocess/load_data/data_loader.R')\n",
    "load_hotel_reserve()\n",
    "\n",
    "# 下記から本書掲載\n",
    "# row_number関数でreserve_datetimeを利用するために、POSIXct型に変換\n",
    "# (「第10章 日時型」で詳しく解説)\n",
    "reserve_tb$reserve_datetime <-\n",
    "  as.POSIXct(reserve_tb$reserve_datetime, format='%Y-%m-%d %H:%M:%S')\n",
    "\n",
    "reserve_tb %>%\n",
    "  group_by(customer_id) %>%\n",
    "  arrange(reserve_datetime) %>%\n",
    "\n",
    "  # １〜3件前のtotal_priceの合計をlag関数によって計算\n",
    "  # if_else関数とrank関数を組み合わせて、何件合計したかを判定\n",
    "  # order_by=reserve_datetimeの指定は、事前に並び替えられているので必須ではない\n",
    "  # 合計した件数が0だった場合、0で割っているためprice_avgがNANとなる\n",
    "  mutate(price_avg=\n",
    "           (  lag(total_price, 1, order_by=reserve_datetime, default=0)\n",
    "            + lag(total_price, 2, order_by=reserve_datetime, default=0)\n",
    "            + lag(total_price, 3, order_by=reserve_datetime, default=0))\n",
    "           / if_else(row_number(reserve_datetime) > 3,\n",
    "                     3, row_number(reserve_datetime) - 1))\n"
   ]
  },
  {
   "cell_type": "markdown",
   "metadata": {},
   "source": [
    "# 004_join03_d"
   ]
  },
  {
   "cell_type": "code",
   "execution_count": null,
   "metadata": {},
   "outputs": [],
   "source": [
    "library(dplyr)\n",
    "source('preprocess/load_data/data_loader.R')\n",
    "load_hotel_reserve()\n",
    "\n",
    "# 下記から本書掲載\n",
    "library(tidyr)\n",
    "\n",
    "# row_number関数でreserve_datetimeを利用するために、POSIXct型に変換\n",
    "# (「第10章 日時型」で詳しく解説)\n",
    "reserve_tb$reserve_datetime <-\n",
    "  as.POSIXct(reserve_tb$reserve_datetime, format='%Y-%m-%d %H:%M:%S')\n",
    "\n",
    "# 過去90日間の合計予約金額を計算したテーブル\n",
    "sum_table <-\n",
    "\n",
    "  # reserve_datetimeの日付を確認せずに、同じcustomer_idのデータ行同士をすべて結合\n",
    "  inner_join(\n",
    "    reserve_tb %>%\n",
    "      select(reserve_id, customer_id, reserve_datetime),\n",
    "    reserve_tb %>%\n",
    "      select(customer_id, reserve_datetime, total_price) %>%\n",
    "      rename(reserve_datetime_before=reserve_datetime),\n",
    "    by='customer_id') %>%\n",
    "\n",
    "  # checkinの日付を比較して、90日以内のデータが結合されているデータ行のみ抽出\n",
    "  # 60*60*24*90は、60秒*60分*24時間*90日を意味し、90日間分の秒数を計算\n",
    "  # (日付のデータ型については、「第10章 日時型」で詳しく解説)\n",
    "  filter(reserve_datetime > reserve_datetime_before &\n",
    "           reserve_datetime - 60 * 60 * 24 * 90 <= reserve_datetime_before) %>%\n",
    "  select(reserve_id, total_price) %>%\n",
    "\n",
    "  # reserve_idごとにtotal_priceの合計値を計算\n",
    "  group_by(reserve_id) %>%\n",
    "  summarise(total_price_90d=sum(total_price)) %>%\n",
    "  select(reserve_id, total_price_90d)\n",
    "\n",
    "# 計算した合計値を結合し、元のテーブルに情報を付与\n",
    "# 合計値が存在しないレコードの合計値の値を、replace_naを利用して0に変更\n",
    "left_join(reserve_tb, sum_table, by='reserve_id') %>%\n",
    "  replace_na(list(total_price_90d=0))\n"
   ]
  },
  {
   "cell_type": "markdown",
   "metadata": {},
   "source": [
    "# 004_join04"
   ]
  },
  {
   "cell_type": "code",
   "execution_count": null,
   "metadata": {},
   "outputs": [],
   "source": [
    "library(dplyr)\n",
    "source('preprocess/load_data/data_loader.R')\n",
    "load_hotel_reserve()\n",
    "\n",
    "# 下記から本書掲載\n",
    "library(tidyverse)\n",
    "\n",
    "# 計算対象の年月のデータフレームを作成\n",
    "month_mst <- data.frame(year_month=\n",
    "  # 2017-01-01、2017-02-01, 2017-03-01を生成し、format関数で形式を年月に変換\n",
    "  # (日付のデータ型については、「第10章 日時型」で詳しく解説)\n",
    "  format(seq(as.Date('2017-01-01'), as.Date('2017-03-01'), by='months'),\n",
    "         format='%Y%m')\n",
    ")\n",
    "\n",
    "# 顧客IDと計算対象のすべての年月が結合したテーブル\n",
    "customer_mst <-\n",
    "\n",
    "  # すべての顧客IDと年月マスタを全結合\n",
    "  merge(customer_tb %>% select(customer_id), month_mst) %>%\n",
    "\n",
    "  # mergeで指定した結合キーのデータ型がカテゴリ型になっているので、文字型に戻す\n",
    "  # (カテゴリ型については、「第9章 カテゴリ型」で詳しく解説)\n",
    "  mutate(customer_id=as.character(customer_id),\n",
    "         year_month=as.character(year_month))\n",
    "\n",
    "# 合計利用金額を月ごとに計算\n",
    "left_join(\n",
    "  customer_mst,\n",
    "\n",
    "  # 予約テーブルに年月の結合キーを準備\n",
    "  reserve_tb %>%\n",
    "    mutate(checkin_month = format(as.Date(checkin_date), format='%Y%m')),\n",
    "\n",
    "  # 同じcustomer_idと年月を結合\n",
    "  by=c('customer_id'='customer_id', 'year_month'='checkin_month')\n",
    ") %>%\n",
    "\n",
    "  # customer_idと年月で集約\n",
    "  group_by(customer_id, year_month) %>%\n",
    "\n",
    "  # 合計金額を算出\n",
    "  summarise(price_sum=sum(total_price)) %>%\n",
    "\n",
    "  # 予約レコードがなかった場合の合計金額を値なしから0に変換\n",
    "  replace_na(list(price_sum=0))\n"
   ]
  },
  {
   "cell_type": "code",
   "execution_count": null,
   "metadata": {},
   "outputs": [],
   "source": []
  }
 ],
 "metadata": {
  "kernelspec": {
   "display_name": "R",
   "language": "R",
   "name": "ir"
  },
  "language_info": {
   "codemirror_mode": "r",
   "file_extension": ".r",
   "mimetype": "text/x-r-source",
   "name": "R",
   "pygments_lexer": "r",
   "version": "3.5.1"
  }
 },
 "nbformat": 4,
 "nbformat_minor": 2
}
