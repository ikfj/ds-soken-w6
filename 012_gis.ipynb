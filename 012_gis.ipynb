{
 "cells": [
  {
   "cell_type": "markdown",
   "metadata": {},
   "source": [
    "# 012_gis01"
   ]
  },
  {
   "cell_type": "code",
   "execution_count": 1,
   "metadata": {},
   "outputs": [
    {
     "name": "stderr",
     "output_type": "stream",
     "text": [
      "Updating HTML index of packages in '.Library'\n",
      "Making 'packages.html' ... done\n"
     ]
    }
   ],
   "source": [
    "install.packages(\"sp\")"
   ]
  },
  {
   "cell_type": "code",
   "execution_count": 3,
   "metadata": {},
   "outputs": [
    {
     "name": "stderr",
     "output_type": "stream",
     "text": [
      "Warning message in install.packages(\"rgdal\"):\n",
      "“installation of package ‘rgdal’ had non-zero exit status”Updating HTML index of packages in '.Library'\n",
      "Making 'packages.html' ... done\n"
     ]
    }
   ],
   "source": [
    "install.packages(\"rgdal\")"
   ]
  },
  {
   "cell_type": "code",
   "execution_count": 4,
   "metadata": {},
   "outputs": [
    {
     "ename": "ERROR",
     "evalue": "Error in spTransform(home_locations, CRS(\"+proj=longlat +ellps=WGS84 +datum=WGS84 +no_defs\")): package rgdal is required for spTransform methods\n",
     "output_type": "error",
     "traceback": [
      "Error in spTransform(home_locations, CRS(\"+proj=longlat +ellps=WGS84 +datum=WGS84 +no_defs\")): package rgdal is required for spTransform methods\nTraceback:\n",
      "1. spTransform(home_locations, CRS(\"+proj=longlat +ellps=WGS84 +datum=WGS84 +no_defs\"))",
      "2. spTransform(home_locations, CRS(\"+proj=longlat +ellps=WGS84 +datum=WGS84 +no_defs\"))",
      "3. stop(\"package rgdal is required for spTransform methods\")"
     ]
    }
   ],
   "source": [
    "library(dplyr)\n",
    "source('preprocess/load_data/data_loader.R')\n",
    "load_hotel_reserve()\n",
    "\n",
    "# 下記から本書掲載\n",
    "# Spatialオブジェクトを扱うためにspパッケージを読み込み\n",
    "library(sp)\n",
    "\n",
    "# 対象の顧客テーブルの家の緯度、経度を取得\n",
    "home_locations <- customer_tb %>% select(home_longitude, home_latitude)\n",
    "\n",
    "# 分・秒を度に変換する関数を定義\n",
    "convert_to_continuous <- function(x){\n",
    "  x_min <- (x * 100 - as.integer(x * 100)) * 100\n",
    "  x_sec <- (x - as.integer(x) - x_min / 10000) * 100\n",
    "  return(as.integer(x) + x_sec / 60 + x_min / 60 / 60)\n",
    "}\n",
    "\n",
    "# 分・秒を度に変換\n",
    "home_locations['home_longitude'] <-\n",
    "  sapply(home_locations['home_longitude'], convert_to_continuous)\n",
    "home_locations['home_latitude'] <-\n",
    "  sapply(home_locations['home_latitude'], convert_to_continuous)\n",
    "\n",
    "# Spatialオブジェクト（経度緯度のセットのデータ型）に変換\n",
    "coordinates(home_locations) <- c('home_longitude', 'home_latitude')\n",
    "\n",
    "# 日本測地系の設定\n",
    "# 誌面の関係上、文章を分割してpasete0関数でつなぐ\n",
    "proj4string(home_locations) <-CRS(\n",
    "  paste0('+proj=longlat +ellps=bessel ',\n",
    "         '+towgs84=-146.336,506.832,680.254,0,0,0,0 +no_defs')\n",
    ")\n",
    "\n",
    "# 世界測地系（WGS84）へ変換\n",
    "# rgdalパッケージをspTransform関数内部で利用\n",
    "home_locations <-\n",
    "  spTransform(home_locations,\n",
    "              CRS('+proj=longlat +ellps=WGS84 +datum=WGS84 +no_defs'))\n",
    "\n",
    "# data.frameに変換\n",
    "home_locations <- data.frame(home_locations)\n",
    "\n",
    "# customer_tbの経度緯度を世界測地系に更新\n",
    "customer_tb$home_longitude <- home_locations$home_longitude\n",
    "customer_tb$home_latitude <- home_locations$home_latitude\n"
   ]
  },
  {
   "cell_type": "markdown",
   "metadata": {},
   "source": [
    "# 012_gis02"
   ]
  },
  {
   "cell_type": "code",
   "execution_count": 2,
   "metadata": {},
   "outputs": [
    {
     "ename": "ERROR",
     "evalue": "Error in library(sp): there is no package called ‘sp’\n",
     "output_type": "error",
     "traceback": [
      "Error in library(sp): there is no package called ‘sp’\nTraceback:\n",
      "1. library(sp)",
      "2. stop(txt, domain = NA)"
     ]
    }
   ],
   "source": [
    "library(dplyr)\n",
    "source('preprocess/load_data/data_loader.R')\n",
    "load_hotel_reserve()\n",
    "\n",
    "# Spatialオブジェクトを扱うためにspパッケージを読み込み\n",
    "library(sp)\n",
    "\n",
    "# 対象の顧客テーブルの家の緯度、経度を取得\n",
    "home_locations <- customer_tb %>% select(home_longitude, home_latitude)\n",
    "\n",
    "# 分・秒を度に変換する関数を定義\n",
    "convert_to_continuous <- function(x){\n",
    "  x_min <- (x * 100 - as.integer(x * 100)) * 100\n",
    "  x_sec <- (x - as.integer(x) - x_min / 10000) * 100\n",
    "  return(as.integer(x) + x_sec / 60 + x_min / 60 / 60)\n",
    "}\n",
    "\n",
    "# 分・秒を度に変換\n",
    "home_locations['home_longitude'] <-\n",
    "  sapply(home_locations['home_longitude'], convert_to_continuous)\n",
    "home_locations['home_latitude'] <-\n",
    "  sapply(home_locations['home_latitude'], convert_to_continuous)\n",
    "\n",
    "# Spatialオブジェクト（経度緯度のセットのデータ型）に変換\n",
    "coordinates(home_locations) <- c('home_longitude', 'home_latitude')\n",
    "\n",
    "# 日本測地系の設定\n",
    "# 文章を分割して、pasete0関数でつないでいるのは書面の関係\n",
    "proj4string(home_locations) <-CRS(\n",
    "  paste0('+proj=longlat +ellps=bessel ',\n",
    "         '+towgs84=-146.336,506.832,680.254,0,0,0,0 +no_defs')\n",
    ")\n",
    "\n",
    "# 世界測地系（WGS84）へ変換\n",
    "# rgdalパッケージをspTransform関数内部で利用\n",
    "home_locations <-\n",
    "  spTransform(home_locations,\n",
    "              CRS('+proj=longlat +ellps=WGS84 +datum=WGS84 +no_defs'))\n",
    "\n",
    "# data.frameに変換\n",
    "home_locations <- data.frame(home_locations)\n",
    "\n",
    "# customer_tbの経度緯度を世界測地系に更新\n",
    "customer_tb$home_longitude <- home_locations$home_longitude\n",
    "customer_tb$home_latitude <- home_locations$home_latitude\n",
    "\n",
    "\n",
    "# 下記から本書掲載\n",
    "library(geosphere)\n",
    "\n",
    "# ・・・日本測地形に修正するまでのコード省略・・・\n",
    "\n",
    "# 予約テーブルに顧客テーブルとホテルテーブルを結合\n",
    "reserve_all_tb <- inner_join(reserve_tb, hotel_tb, by='hotel_id')\n",
    "reserve_all_tb <- inner_join(reserve_all_tb, customer_tb, by='customer_id')\n",
    "\n",
    "# 方位角の計算\n",
    "bearing(reserve_all_tb[, c('home_longitude', 'home_latitude')],\n",
    "        reserve_all_tb[, c('hotel_longitude', 'hotel_latitude')])\n",
    "\n",
    "# Haversineの式による距離計算\n",
    "distHaversine(reserve_all_tb[, c('home_longitude', 'home_latitude')],\n",
    "              reserve_all_tb[, c('hotel_longitude', 'hotel_latitude')])\n",
    "\n",
    "# Vincentyの式による距離計算\n",
    "distVincentySphere(reserve_all_tb[, c('home_longitude', 'home_latitude')],\n",
    "                   reserve_all_tb[, c('hotel_longitude', 'hotel_latitude')])\n",
    "\n",
    "# Hubenyの式の関数定義\n",
    "distHubeny <- function(x){\n",
    "  a=6378137\n",
    "  b=6356752.314245\n",
    "  e2 <- (a ** 2 - b ** 2) / a ** 2\n",
    "  points <- sapply(x, function(x){return(x * (2 * pi) / 360)})\n",
    "  lon1 <- points[[1]]\n",
    "  lat1 <- points[[2]]\n",
    "  lon2 <- points[[3]]\n",
    "  lat2 <- points[[4]]\n",
    "  w = 1 - e2 * sin((lat1 + lat2) / 2) ** 2\n",
    "  c2 = cos((lat1 + lat2) / 2) ** 2\n",
    "  return(sqrt((b ** 2 / w ** 3) * (lat1 - lat2) ** 2\n",
    "              + (a ** 2 / w) * c2 * (lon1 - lon2) ** 2))\n",
    "}\n",
    "\n",
    "# Hubenyの式による距離計算\n",
    "apply(\n",
    "  reserve_all_tb[, c('home_longitude', 'home_latitude',\n",
    "                     'hotel_longitude', 'hotel_latitude')],\n",
    "  distHubeny, MARGIN=1\n",
    ")\n",
    "\n"
   ]
  },
  {
   "cell_type": "code",
   "execution_count": null,
   "metadata": {},
   "outputs": [],
   "source": []
  }
 ],
 "metadata": {
  "kernelspec": {
   "display_name": "R",
   "language": "R",
   "name": "ir"
  },
  "language_info": {
   "codemirror_mode": "r",
   "file_extension": ".r",
   "mimetype": "text/x-r-source",
   "name": "R",
   "pygments_lexer": "r",
   "version": "3.5.1"
  }
 },
 "nbformat": 4,
 "nbformat_minor": 2
}
