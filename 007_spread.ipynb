{
 "cells": [
  {
   "cell_type": "markdown",
   "metadata": {},
   "source": [
    "# 007_spread01"
   ]
  },
  {
   "cell_type": "code",
   "execution_count": null,
   "metadata": {},
   "outputs": [],
   "source": [
    "library(tidyverse)\n",
    "source('preprocess/load_data/data_loader.R')\n",
    "load_hotel_reserve()\n",
    "\n",
    "# 下記から本書掲載\n",
    "# 横持ちに変更した際に列名が取得できるようにカテゴリ型(factor)に変更\n",
    "# カテゴリ型については「第9章 カテゴリ型」で詳しく説明\n",
    "reserve_tb$people_num <- as.factor(reserve_tb$people_num)\n",
    "\n",
    "reserve_tb %>%\n",
    "  group_by(customer_id, people_num) %>%\n",
    "  summarise(rsv_cnt=n()) %>%\n",
    "\n",
    "  # spread関数で横持ちに変換\n",
    "  # fillで該当する値がないときの値を設定\n",
    "  spread(people_num, rsv_cnt, fill=0)\n"
   ]
  },
  {
   "cell_type": "markdown",
   "metadata": {},
   "source": [
    "# 007_spread02"
   ]
  },
  {
   "cell_type": "code",
   "execution_count": null,
   "metadata": {},
   "outputs": [],
   "source": [
    "library(dplyr)\n",
    "source('preprocess/load_data/data_loader.R')\n",
    "load_hotel_reserve()\n",
    "\n",
    "# 下記から本書掲載\n",
    "# sparseMatrix用のパッケージ\n",
    "library(Matrix)\n",
    "\n",
    "cnt_tb <-\n",
    "  reserve_tb %>%\n",
    "    group_by(customer_id, people_num) %>%\n",
    "    summarise(rsv_cnt=n())\n",
    "\n",
    "# sparseMatrixの行／列に該当する列の値をカテゴリ型（factor）に変換\n",
    "# 「第9章 カテゴリ型」で詳しく説明\n",
    "cnt_tb$customer_id <- as.factor(cnt_tb$customer_id)\n",
    "cnt_tb$people_num <- as.factor(cnt_tb$people_num)\n",
    "\n",
    "# スパースマトリックスを生成\n",
    "# 1つ目から3つ目の引数には、横持ちのデータを指定\n",
    "# 1つ目:行番号、2つ目:列番号、3つ目:指定した行列に対応した値、ベクトルを指定\n",
    "# dimsには、スパースマトリックスのサイズを指定（行数／列数のベクトルを指定）\n",
    "# （as.numeric(cnt_tb$customer_id)はインデックス番号の取得）\n",
    "# （length(levels(cnt_tb$customer_id))は、customer_idのユニークな数を取得）\n",
    "sparseMatrix(as.numeric(cnt_tb$customer_id), as.numeric(cnt_tb$people_num),\n",
    "             x=cnt_tb$rsv_cnt,\n",
    "             dims=c(length(levels(cnt_tb$customer_id)),\n",
    "                    length(levels(cnt_tb$people_num))))\n"
   ]
  },
  {
   "cell_type": "code",
   "execution_count": null,
   "metadata": {},
   "outputs": [],
   "source": []
  }
 ],
 "metadata": {
  "kernelspec": {
   "display_name": "R",
   "language": "R",
   "name": "ir"
  },
  "language_info": {
   "codemirror_mode": "r",
   "file_extension": ".r",
   "mimetype": "text/x-r-source",
   "name": "R",
   "pygments_lexer": "r",
   "version": "3.5.1"
  }
 },
 "nbformat": 4,
 "nbformat_minor": 2
}
