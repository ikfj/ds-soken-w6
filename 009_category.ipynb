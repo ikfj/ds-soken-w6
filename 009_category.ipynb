{
 "cells": [
  {
   "cell_type": "markdown",
   "metadata": {},
   "source": [
    "# カテゴリ型に対する操作　Operations on category types\n",
    "\n",
    "## Load Data"
   ]
  },
  {
   "cell_type": "code",
   "execution_count": null,
   "metadata": {},
   "outputs": [],
   "source": [
    "library(dplyr)\n",
    "source('preprocess/load_data/data_loader.R')\n",
    "load_hotel_reserve()"
   ]
  },
  {
   "cell_type": "markdown",
   "metadata": {},
   "source": [
    "## Category type"
   ]
  },
  {
   "cell_type": "code",
   "execution_count": null,
   "metadata": {},
   "outputs": [],
   "source": [
    "customer_tb$sex_is_man <- as.logical(customer_tb$sex == 'man')\n",
    "\n",
    "customer_tb$sex_c <- factor(customer_tb$sex, levels = c('man', 'woman'))\n",
    "\n",
    "as.numeric(customer_tb$sex_c)\n",
    "\n",
    "levels(customer_tb$sex_c)"
   ]
  },
  {
   "cell_type": "markdown",
   "metadata": {},
   "source": [
    "## Dummy variable"
   ]
  },
  {
   "cell_type": "code",
   "execution_count": null,
   "metadata": {},
   "outputs": [],
   "source": [
    "library(caret)\n",
    "\n",
    "dummy_model <- dummyVars(~sex, data=customer_tb, fullRank=FALSE)\n",
    "\n",
    "dummy_vars <- predict(dummy_model, customer_tb)\n",
    "\n",
    "dummy_vars[1:10,]"
   ]
  },
  {
   "cell_type": "markdown",
   "metadata": {},
   "source": [
    "## Aggregation of category values"
   ]
  },
  {
   "cell_type": "code",
   "execution_count": null,
   "metadata": {},
   "outputs": [],
   "source": [
    "customer_tb$age_rank <- factor(floor(customer_tb$age / 10) * 10)\n",
    "\n",
    "levels(customer_tb$age_rank) <- c(levels(customer_tb$age_rank), '60_years_old_or_older')\n",
    "\n",
    "customer_tb[customer_tb$age_rank %in% c('60', '70', '80'), 'age_rank'] <-\n",
    "  '60_years_old_or_older'\n",
    "\n",
    "customer_tb$age_rank <- droplevels(customer_tb$age_rank)\n",
    "\n",
    "customer_tb[1:10,]"
   ]
  },
  {
   "cell_type": "markdown",
   "metadata": {},
   "source": [
    "## Add category"
   ]
  },
  {
   "cell_type": "code",
   "execution_count": null,
   "metadata": {},
   "outputs": [],
   "source": [
    "result <- customer_tb %>%\n",
    "  mutate(sex_and_age = factor(paste(floor(age / 10) * 10, sex, sep = '_')))\n",
    "\n",
    "result[1:10,]"
   ]
  },
  {
   "cell_type": "code",
   "execution_count": null,
   "metadata": {},
   "outputs": [],
   "source": []
  }
 ],
 "metadata": {
  "kernelspec": {
   "display_name": "R",
   "language": "R",
   "name": "ir"
  },
  "language_info": {
   "codemirror_mode": "r",
   "file_extension": ".r",
   "mimetype": "text/x-r-source",
   "name": "R",
   "pygments_lexer": "r",
   "version": "3.5.1"
  }
 },
 "nbformat": 4,
 "nbformat_minor": 2
}
