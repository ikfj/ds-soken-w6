{
 "cells": [
  {
   "cell_type": "markdown",
   "metadata": {},
   "source": [
    "# 抽出　Extraction(Selection)\n",
    "\n",
    "## Load Data\n",
    "\n",
    "[data_loader.R](/user/username/edit/awesomebook/preprocess/load_data/data_loader.R)\n",
    "\n",
    "load_hotel_reserve() reads data."
   ]
  },
  {
   "cell_type": "code",
   "execution_count": null,
   "metadata": {},
   "outputs": [],
   "source": [
    "library(dplyr)\n",
    "source('preprocess/load_data/data_loader.R')\n",
    "load_hotel_reserve()"
   ]
  },
  {
   "cell_type": "markdown",
   "metadata": {},
   "source": [
    "3 dataframes have been read."
   ]
  },
  {
   "cell_type": "code",
   "execution_count": null,
   "metadata": {},
   "outputs": [],
   "source": [
    "customer_tb[1:10,]"
   ]
  },
  {
   "cell_type": "code",
   "execution_count": null,
   "metadata": {},
   "outputs": [],
   "source": [
    "hotel_tb[1:10,]"
   ]
  },
  {
   "cell_type": "code",
   "execution_count": null,
   "metadata": {},
   "outputs": [],
   "source": [
    "reserve_tb[1:10,]"
   ]
  },
  {
   "cell_type": "markdown",
   "metadata": {},
   "source": [
    "## Extraction by column specification"
   ]
  },
  {
   "cell_type": "code",
   "execution_count": null,
   "metadata": {},
   "outputs": [],
   "source": [
    "result <- reserve_tb[, c('reserve_id', 'hotel_id', 'customer_id', 'reserve_datetime',\n",
    "               'checkin_date', 'checkin_time', 'checkout_date')]\n",
    "\n",
    "result[1:10,]"
   ]
  },
  {
   "cell_type": "markdown",
   "metadata": {},
   "source": [
    "Another way, using [select() function](https://www.rdocumentation.org/packages/dplyr/versions/0.7.8/topics/select) and %>% operator."
   ]
  },
  {
   "cell_type": "code",
   "execution_count": null,
   "metadata": {},
   "outputs": [],
   "source": [
    "result <- reserve_tb %>%\n",
    "\n",
    "  select(reserve_id, hotel_id, customer_id, reserve_datetime,\n",
    "         checkin_date, checkin_time, checkout_date)\n",
    "\n",
    "result[1:10,]"
   ]
  },
  {
   "cell_type": "markdown",
   "metadata": {},
   "source": [
    "## Extraction by condition specification\n",
    "\n",
    "Using [filter() function](https://www.rdocumentation.org/packages/dplyr/versions/0.7.8/topics/filter)."
   ]
  },
  {
   "cell_type": "code",
   "execution_count": null,
   "metadata": {},
   "outputs": [],
   "source": [
    "reserve_tb %>%\n",
    "\n",
    "  filter(between(as.Date(checkin_date),\n",
    "                 as.Date('2016-10-12'), as.Date('2016-10-13')))"
   ]
  },
  {
   "cell_type": "markdown",
   "metadata": {},
   "source": [
    "## Random sampling\n",
    "\n",
    "Using [sample_frac() fnction](https://www.rdocumentation.org/packages/Momocs/versions/1.2.9/topics/sample_frac)."
   ]
  },
  {
   "cell_type": "code",
   "execution_count": null,
   "metadata": {},
   "outputs": [],
   "source": [
    "sample_frac(reserve_tb, 0.005)"
   ]
  },
  {
   "cell_type": "markdown",
   "metadata": {},
   "source": [
    "## Aggregation ID based sampling\n",
    "\n",
    "Using [sample() function](https://www.rdocumentation.org/packages/dplyr/versions/0.7.8/topics/sample)."
   ]
  },
  {
   "cell_type": "code",
   "execution_count": null,
   "metadata": {},
   "outputs": [],
   "source": [
    "all_id <- unique(reserve_tb$customer_id) # vector (not data.frame)\n",
    "\n",
    "reserve_tb %>%\n",
    "\n",
    "  filter(customer_id %in% sample(all_id, size = length(all_id) * 0.005))"
   ]
  },
  {
   "cell_type": "code",
   "execution_count": null,
   "metadata": {},
   "outputs": [],
   "source": []
  }
 ],
 "metadata": {
  "kernelspec": {
   "display_name": "R",
   "language": "R",
   "name": "ir"
  },
  "language_info": {
   "codemirror_mode": "r",
   "file_extension": ".r",
   "mimetype": "text/x-r-source",
   "name": "R",
   "pygments_lexer": "r",
   "version": "3.5.1"
  }
 },
 "nbformat": 4,
 "nbformat_minor": 2
}
